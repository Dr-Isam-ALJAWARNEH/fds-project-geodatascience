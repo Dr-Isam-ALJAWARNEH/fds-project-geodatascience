{
  "nbformat": 4,
  "nbformat_minor": 0,
  "metadata": {
    "colab": {
      "provenance": [],
      "authorship_tag": "ABX9TyNOQaCOdpuWNNhFpSNyDaeg",
      "include_colab_link": true
    },
    "kernelspec": {
      "name": "python3",
      "display_name": "Python 3"
    },
    "language_info": {
      "name": "python"
    }
  },
  "cells": [
    {
      "cell_type": "markdown",
      "metadata": {
        "id": "view-in-github",
        "colab_type": "text"
      },
      "source": [
        "<a href=\"https://colab.research.google.com/github/Dr-Isam-ALJAWARNEH/fds-project-geodatascience/blob/test/GeoTable.ipynb\" target=\"_parent\"><img src=\"https://colab.research.google.com/assets/colab-badge.svg\" alt=\"Open In Colab\"/></a>"
      ]
    },
    {
      "cell_type": "code",
      "execution_count": 4,
      "metadata": {
        "id": "jlycvAJP2_12"
      },
      "outputs": [],
      "source": [
        "from datascience import Table\n",
        "\n",
        "class GeoTable(Table):\n",
        "    def __init__(self, *args, **kwargs):\n",
        "        # Call the base Table constructor\n",
        "        super().__init__(*args, **kwargs)\n",
        "\n",
        "        # Ensure 'geometry' column exists\n",
        "        if 'geometry' not in self.labels:\n",
        "            self.append_column('geometry', [None] * self.num_rows)\n"
      ]
    },
    {
      "cell_type": "code",
      "source": [
        "!apt-get install git"
      ],
      "metadata": {
        "colab": {
          "base_uri": "https://localhost:8080/"
        },
        "id": "aJ-poOA77_-j",
        "outputId": "1fac226b-75e5-422d-d471-fd7a01bd1e96"
      },
      "execution_count": 5,
      "outputs": [
        {
          "output_type": "stream",
          "name": "stdout",
          "text": [
            "Reading package lists... Done\n",
            "Building dependency tree... Done\n",
            "Reading state information... Done\n",
            "git is already the newest version (1:2.34.1-1ubuntu1.12).\n",
            "0 upgraded, 0 newly installed, 0 to remove and 34 not upgraded.\n"
          ]
        }
      ]
    },
    {
      "cell_type": "code",
      "source": [],
      "metadata": {
        "id": "zL4a351l88W6"
      },
      "execution_count": null,
      "outputs": []
    }
  ]
}