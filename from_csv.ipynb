{
  "nbformat": 4,
  "nbformat_minor": 0,
  "metadata": {
    "colab": {
      "provenance": [],
      "authorship_tag": "ABX9TyOtSwALSHVzPCGQCCSz9Qux",
      "include_colab_link": true
    },
    "kernelspec": {
      "name": "python3",
      "display_name": "Python 3"
    },
    "language_info": {
      "name": "python"
    }
  },
  "cells": [
    {
      "cell_type": "markdown",
      "metadata": {
        "id": "view-in-github",
        "colab_type": "text"
      },
      "source": [
        "<a href=\"https://colab.research.google.com/github/Dr-Isam-ALJAWARNEH/fds-project-geodatascience/blob/test/Untitled9.ipynb\" target=\"_parent\"><img src=\"https://colab.research.google.com/assets/colab-badge.svg\" alt=\"Open In Colab\"/></a>"
      ]
    },
    {
      "cell_type": "code",
      "source": [
        "import pandas as pd\n",
        "import geopandas as gpd\n",
        "from datascience import Table\n",
        "\n",
        "class GeoTable(Table):\n",
        "    def __init__(self, *args, **kwargs):\n",
        "        # Call the base Table constructor\n",
        "        super().__init__(*args, **kwargs)\n",
        "\n",
        "        # Ensure 'geometry' column exists\n",
        "        if 'geometry' not in self.labels:\n",
        "            self.append_column('geometry', [None] * self.num_rows)\n",
        "\n",
        "    @classmethod\n",
        "    def from_csv(cls, filepath, lon_col='longitude', lat_col='latitude', geohash_precision=7):\n",
        "        \"\"\"\n",
        "        Reads a CSV file and creates a GeoTable with geometry and geohash.\n",
        "\n",
        "        Args:\n",
        "            filepath (str): Path to the CSV file.\n",
        "            lon_col (str): Name of the longitude column.\n",
        "            lat_col (str): Name of the latitude column.\n",
        "            geohash_precision (int): Precision level of geohash encoding (default 7).\n",
        "\n",
        "        Returns:\n",
        "            GeoTable: A new GeoTable instance.\n",
        "        \"\"\"\n",
        "        df = pd.read_csv(filepath)\n",
        "\n",
        "        if lon_col not in df.columns or lat_col not in df.columns:\n",
        "            raise ValueError(f\"Missing longitude or latitude columns: '{lon_col}', '{lat_col}'\")\n",
        "\n",
        "        if df[[lon_col, lat_col]].isnull().any().any():\n",
        "            raise ValueError(f\"Found null values in columns: '{lon_col}', '{lat_col}'\")\n",
        "\n",
        "        if not pd.api.types.is_numeric_dtype(df[lon_col]) or not pd.api.types.is_numeric_dtype(df[lat_col]):\n",
        "            raise ValueError(f\"Longitude and latitude columns must be numeric.\")\n",
        "\n",
        "\n",
        "\n",
        "        # Geometry column from lat/lon\n",
        "        df['geometry'] = [Point(xy) for xy in zip(df[lon_col], df[lat_col])]\n",
        "\n",
        "        # Geohash encoding\n",
        "        df['geohash'] = [\n",
        "            geohash2.encode(lat, lon, precision=geohash_precision)\n",
        "            for lat, lon in zip(df[lat_col], df[lon_col])]\n",
        "\n",
        "        table = cls.from_df(df)\n",
        "        table._geometry = 'geometry'\n",
        "        return table"
      ],
      "metadata": {
        "id": "UCeZdcpJkrVM"
      },
      "execution_count": 37,
      "outputs": []
    }
  ]
}
